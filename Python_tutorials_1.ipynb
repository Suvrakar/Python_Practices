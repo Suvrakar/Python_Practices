{
  "nbformat": 4,
  "nbformat_minor": 0,
  "metadata": {
    "colab": {
      "name": "Python tutorials 1.ipynb",
      "provenance": [],
      "authorship_tag": "ABX9TyPGW9VV6huLM4HlqhD6epj3",
      "include_colab_link": true
    },
    "kernelspec": {
      "name": "python3",
      "display_name": "Python 3"
    }
  },
  "cells": [
    {
      "cell_type": "markdown",
      "metadata": {
        "id": "view-in-github",
        "colab_type": "text"
      },
      "source": [
        "<a href=\"https://colab.research.google.com/github/Suvrakar/Python_Practices-/blob/master/Python_tutorials_1.ipynb\" target=\"_parent\"><img src=\"https://colab.research.google.com/assets/colab-badge.svg\" alt=\"Open In Colab\"/></a>"
      ]
    },
    {
      "cell_type": "code",
      "metadata": {
        "id": "r-S0L34gvpQd",
        "colab_type": "code",
        "outputId": "87fa97c1-209c-4a1e-8a40-5541a0f5e5bf",
        "colab": {
          "base_uri": "https://localhost:8080/",
          "height": 141
        }
      },
      "source": [
        "#python_list\n",
        "#list is mutable\n",
        "#it use []\n",
        "                                                                                # 0   1    2     3      4       5       6\n",
        "x=[2,3,\"ami\", 4.33,5,3,7.5]                                                     # 2   3   ami   4.33    5       3      7.5\n",
        "print(x)                                                                        #-7  -6    -5   -4     -3      -2       -1\n",
        "\n",
        "print(x[1:4]) #eita indx 0 thake 4 prjnto print krbe\n",
        "\n",
        "print(x[-1:]) #eita indx 0 thake 4 prjnto print krbe\n",
        "\n",
        "\n",
        "\n",
        "x.append(6) #append means last e add hobe\n",
        "print(x)\n",
        "\n",
        "x.insert(2,4) #insert mane (2,4) eikhne 2number index e 4 add hbe\n",
        "print(x)\n",
        "\n",
        "x.pop() #pop mane last er value ta pop krbe\n",
        "print(x)\n",
        "\n",
        "x.reverse()\n",
        "print(x)\n",
        "\n",
        "\n",
        "\n"
      ],
      "execution_count": 0,
      "outputs": [
        {
          "output_type": "stream",
          "text": [
            "[2, 3, 'ami', 4.33, 5, 3, 7.5]\n",
            "[3, 'ami', 4.33]\n",
            "[7.5]\n",
            "[2, 3, 'ami', 4.33, 5, 3, 7.5, 6]\n",
            "[2, 3, 4, 'ami', 4.33, 5, 3, 7.5, 6]\n",
            "[2, 3, 4, 'ami', 4.33, 5, 3, 7.5]\n",
            "[7.5, 3, 5, 4.33, 'ami', 4, 3, 2]\n"
          ],
          "name": "stdout"
        }
      ]
    },
    {
      "cell_type": "code",
      "metadata": {
        "id": "CNA0nrB93SNI",
        "colab_type": "code",
        "colab": {}
      },
      "source": [
        "#python_tuples\n",
        "#it is immutable\n",
        "#it use ()\n",
        "\n",
        "#python_sets\n",
        "#it is immutable\n",
        "#it use {}\n",
        "#do not follow sequences"
      ],
      "execution_count": 0,
      "outputs": []
    },
    {
      "cell_type": "code",
      "metadata": {
        "id": "0WW3j3iE46cI",
        "colab_type": "code",
        "outputId": "0729ce8f-4162-4bd4-e4ee-80f3450aa1aa",
        "colab": {
          "base_uri": "https://localhost:8080/",
          "height": 34
        }
      },
      "source": [
        "#pyhton_dict\n",
        "\n",
        "\n",
        "x={1: \"we\", 2: \"are\", 4: \"good\"}\n",
        "\n",
        "print(x)"
      ],
      "execution_count": 0,
      "outputs": [
        {
          "output_type": "stream",
          "text": [
            "{1: 'we', 2: 'are', 4: 'good'}\n"
          ],
          "name": "stdout"
        }
      ]
    },
    {
      "cell_type": "code",
      "metadata": {
        "id": "lK5xGCe1sOWC",
        "colab_type": "code",
        "colab": {}
      },
      "source": [
        ""
      ],
      "execution_count": 0,
      "outputs": []
    }
  ]
}